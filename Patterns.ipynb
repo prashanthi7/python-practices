{
 "cells": [
  {
   "cell_type": "markdown",
   "id": "4eab062f",
   "metadata": {},
   "source": [
    "# Write a python code to print the following patterns"
   ]
  },
  {
   "cell_type": "markdown",
   "id": "b7e2e6b1",
   "metadata": {},
   "source": [
    "#### Pattern-1:"
   ]
  },
  {
   "cell_type": "code",
   "execution_count": 8,
   "id": "ad93e718",
   "metadata": {},
   "outputs": [
    {
     "name": "stdout",
     "output_type": "stream",
     "text": [
      "1 \n",
      "1 2 \n",
      "1 2 3 \n",
      "1 2 3 4 \n",
      "1 2 3 4 5 \n"
     ]
    }
   ],
   "source": [
    "for i in range(5):\n",
    "    for j in range(i+1):\n",
    "        print(j+1,end=\" \")\n",
    "    print()"
   ]
  },
  {
   "cell_type": "markdown",
   "id": "dc8b42be",
   "metadata": {},
   "source": [
    "### Pattern-2:"
   ]
  },
  {
   "cell_type": "code",
   "execution_count": 7,
   "id": "0bc5c716",
   "metadata": {},
   "outputs": [
    {
     "name": "stdout",
     "output_type": "stream",
     "text": [
      "1 \n",
      "2 2 \n",
      "3 3 3 \n",
      "4 4 4 4 \n",
      "5 5 5 5 5 \n"
     ]
    }
   ],
   "source": [
    "for i in range(5):\n",
    "    for j in range(i+1):\n",
    "        print(i+1,end=\" \")\n",
    "    print()"
   ]
  },
  {
   "cell_type": "markdown",
   "id": "903ca9c9",
   "metadata": {},
   "source": [
    "### Pattern-3:"
   ]
  },
  {
   "cell_type": "code",
   "execution_count": 1,
   "id": "b19d7874",
   "metadata": {},
   "outputs": [
    {
     "name": "stdout",
     "output_type": "stream",
     "text": [
      "* \n",
      "* * \n",
      "* * * \n",
      "* * * * \n",
      "* * * * * \n"
     ]
    }
   ],
   "source": [
    "for i in range(1,6):\n",
    "    print(\"* \"*i)"
   ]
  },
  {
   "cell_type": "markdown",
   "id": "1a2f7970",
   "metadata": {},
   "source": [
    "### Pattern-4:"
   ]
  },
  {
   "cell_type": "code",
   "execution_count": 9,
   "id": "ecac1418",
   "metadata": {},
   "outputs": [
    {
     "name": "stdout",
     "output_type": "stream",
     "text": [
      "5 4 3 2 1 \n",
      "4 3 2 1 \n",
      "3 2 1 \n",
      "2 1 \n",
      "1 \n",
      "\n"
     ]
    }
   ],
   "source": [
    "rows = 5\n",
    "for i in range(0, rows + 1):\n",
    "    for j in range(rows - i, 0, -1):\n",
    "        print(j, end=' ')\n",
    "    print()"
   ]
  },
  {
   "cell_type": "markdown",
   "id": "b78f4bc4",
   "metadata": {},
   "source": [
    "### Pattern-5:"
   ]
  },
  {
   "cell_type": "code",
   "execution_count": 35,
   "id": "17dcf011",
   "metadata": {},
   "outputs": [
    {
     "name": "stdout",
     "output_type": "stream",
     "text": [
      "5 5 5 5 5 \n",
      "4 4 4 4 \n",
      "3 3 3 \n",
      "2 2 \n",
      "1 \n"
     ]
    }
   ],
   "source": [
    "n=5\n",
    "for i in range(5):\n",
    "    for j in range(5-i):\n",
    "        print(5-i,end=\" \")\n",
    "    print()"
   ]
  },
  {
   "cell_type": "markdown",
   "id": "7ac826a5",
   "metadata": {},
   "source": [
    "### Pattern-6:"
   ]
  },
  {
   "cell_type": "code",
   "execution_count": 20,
   "id": "30daf0a0",
   "metadata": {},
   "outputs": [
    {
     "name": "stdout",
     "output_type": "stream",
     "text": [
      "* * * * * \n",
      "* * * * \n",
      "* * * \n",
      "* * \n",
      "* \n",
      "\n"
     ]
    }
   ],
   "source": [
    "for i in range(6):\n",
    "    for j in range(5-i):\n",
    "        print(\"*\",end=\" \")\n",
    "    print()"
   ]
  },
  {
   "cell_type": "markdown",
   "id": "8aa539c7",
   "metadata": {},
   "source": [
    "### Pattern-7:"
   ]
  },
  {
   "cell_type": "code",
   "execution_count": 10,
   "id": "b3d819fc",
   "metadata": {},
   "outputs": [
    {
     "name": "stdout",
     "output_type": "stream",
     "text": [
      "1  \n",
      "2 3  \n",
      "4 5 6  \n",
      "7 8 9 10  \n"
     ]
    }
   ],
   "source": [
    "rows=4\n",
    "stop=2\n",
    "n=1\n",
    "for i in range(rows):\n",
    "    for j in range(1,stop):\n",
    "        print(n,end=\" \")\n",
    "        n+=1\n",
    "    print(\" \")\n",
    "    stop+=1"
   ]
  },
  {
   "cell_type": "markdown",
   "id": "b35bbc27",
   "metadata": {},
   "source": [
    "### Pattern-8:"
   ]
  },
  {
   "cell_type": "code",
   "execution_count": 45,
   "id": "93512faf",
   "metadata": {},
   "outputs": [
    {
     "name": "stdout",
     "output_type": "stream",
     "text": [
      "     \n",
      "     *\n",
      "    * *\n",
      "   * * *\n",
      "  * * * *\n",
      " * * * * *\n"
     ]
    }
   ],
   "source": [
    "for i in range(6):\n",
    "    print(\" \"*(5-i)+\" *\"*i)"
   ]
  }
 ],
 "metadata": {
  "kernelspec": {
   "display_name": "Python 3 (ipykernel)",
   "language": "python",
   "name": "python3"
  },
  "language_info": {
   "codemirror_mode": {
    "name": "ipython",
    "version": 3
   },
   "file_extension": ".py",
   "mimetype": "text/x-python",
   "name": "python",
   "nbconvert_exporter": "python",
   "pygments_lexer": "ipython3",
   "version": "3.9.13"
  }
 },
 "nbformat": 4,
 "nbformat_minor": 5
}
