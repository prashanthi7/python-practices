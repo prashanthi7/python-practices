{
 "cells": [
  {
   "cell_type": "markdown",
   "id": "37f25cb1",
   "metadata": {},
   "source": [
    "# 1. Find elements frequency in tuples."
   ]
  },
  {
   "cell_type": "code",
   "execution_count": 21,
   "id": "73a9ab91",
   "metadata": {},
   "outputs": [
    {
     "name": "stdout",
     "output_type": "stream",
     "text": [
      "The original tuple is:(4, 5, 4, 5, 6, 6, 5)\n",
      "{4: 2, 5: 3, 6: 2}\n"
     ]
    }
   ],
   "source": [
    "test_tup=(4,5,4,5,6,6,5)\n",
    "print(\"The original tuple is:\"+ str(test_tup))\n",
    "res=dict()\n",
    "x=list(test_tup)\n",
    "for i in x:\n",
    "    res[i]=x.count(i)\n",
    "print(res)"
   ]
  },
  {
   "cell_type": "markdown",
   "id": "493da7fc",
   "metadata": {},
   "source": [
    "# 2.Python pragram to sort a list of tuples alphabetically\n",
    "# Input:[(\"aaa\",28), (\"aa\",30),(\"bab\",29),(\"bb\",21),(\"csa\",\"c\")]"
   ]
  },
  {
   "cell_type": "code",
   "execution_count": 1,
   "id": "fbc62cc0",
   "metadata": {},
   "outputs": [
    {
     "data": {
      "text/plain": [
       "[('aa', 30), ('aaa', 28), ('bab', 29), ('bb', 21), ('csa', 'c')]"
      ]
     },
     "execution_count": 1,
     "metadata": {},
     "output_type": "execute_result"
    }
   ],
   "source": [
    "l1= [(\"aaa\",28),(\"aa\",30),(\"bab\",29),(\"bb\",21),(\"csa\",\"c\")]\n",
    "l1.sort()\n",
    "l1"
   ]
  },
  {
   "cell_type": "markdown",
   "id": "165aadfc",
   "metadata": {},
   "source": [
    "# 3. Write a python program to calculate the average value of the common number in a given tuple of tuples\n",
    "## Original tuple:((1,1,-5),(30,-15,56),(81,-60,-39),(-10,2,3))"
   ]
  },
  {
   "cell_type": "code",
   "execution_count": 8,
   "id": "f0c57ac0",
   "metadata": {},
   "outputs": [
    {
     "name": "stdout",
     "output_type": "stream",
     "text": [
      "Original Tuple ((1, 1, -5), (30, -15, 56), (81, -60, -39), (-10, 2, 3))\n",
      "Average value of the numbers of the said tuple of tupels [25.5, -18.0, 3.75]\n"
     ]
    }
   ],
   "source": [
    "def average_tuple(nums):\n",
    "    result = [sum(x)/len(x) for x in zip(*nums)]\n",
    "    return result\n",
    "nums= ((1,1,-5),(30,-15,56),(81,-60,-39),(-10,2,3))\n",
    "print(\"Original Tuple\",nums)\n",
    "print(\"Average value of the numbers of the said tuple of tupels\",average_tuple(nums))"
   ]
  },
  {
   "cell_type": "code",
   "execution_count": null,
   "id": "39efb17b",
   "metadata": {},
   "outputs": [],
   "source": []
  }
 ],
 "metadata": {
  "kernelspec": {
   "display_name": "Python 3 (ipykernel)",
   "language": "python",
   "name": "python3"
  },
  "language_info": {
   "codemirror_mode": {
    "name": "ipython",
    "version": 3
   },
   "file_extension": ".py",
   "mimetype": "text/x-python",
   "name": "python",
   "nbconvert_exporter": "python",
   "pygments_lexer": "ipython3",
   "version": "3.9.13"
  }
 },
 "nbformat": 4,
 "nbformat_minor": 5
}
