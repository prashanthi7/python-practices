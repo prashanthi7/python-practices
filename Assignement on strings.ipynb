{
 "cells": [
  {
   "cell_type": "markdown",
   "id": "6ee52d88",
   "metadata": {},
   "source": [
    "# Assignement:1 strings"
   ]
  },
  {
   "cell_type": "markdown",
   "id": "5d9b4f3d",
   "metadata": {},
   "source": [
    "# 1.Write a python program to convert a string to lower case."
   ]
  },
  {
   "cell_type": "code",
   "execution_count": 1,
   "id": "7128cc56",
   "metadata": {},
   "outputs": [
    {
     "data": {
      "text/plain": [
       "'prashanthi'"
      ]
     },
     "execution_count": 1,
     "metadata": {},
     "output_type": "execute_result"
    }
   ],
   "source": [
    "s= \"PRASHANTHI\"\n",
    "s.lower()"
   ]
  },
  {
   "cell_type": "markdown",
   "id": "282e4f03",
   "metadata": {},
   "source": [
    "# 2.Write a python program to convert only odd indexed characters to lower case."
   ]
  },
  {
   "cell_type": "code",
   "execution_count": 17,
   "id": "4eb9af2c",
   "metadata": {},
   "outputs": [
    {
     "name": "stdout",
     "output_type": "stream",
     "text": [
      " PyThOn\n"
     ]
    }
   ],
   "source": [
    "s= \"PYTHON\"\n",
    "res=\" \"\n",
    "for i in range (len(s)):\n",
    "    if not i % 2:\n",
    "       res=res+s[i].upper()\n",
    "    else:\n",
    "       res=res+s[i].lower()\n",
    "print(str(res))"
   ]
  },
  {
   "cell_type": "markdown",
   "id": "73e6f78e",
   "metadata": {},
   "source": [
    "# 3.Write a python progarm to convert only even indexed characters to lower case."
   ]
  },
  {
   "cell_type": "code",
   "execution_count": 20,
   "id": "c2fe62da",
   "metadata": {},
   "outputs": [
    {
     "name": "stdout",
     "output_type": "stream",
     "text": [
      " pYtHoN\n"
     ]
    }
   ],
   "source": [
    "s=\"PYTHON\"\n",
    "res= \" \"\n",
    "for i in range (len(s)):\n",
    "    if not i % 2:\n",
    "        res= res+s[i].lower()\n",
    "    else:\n",
    "        res=res+s[i].upper()\n",
    "print(str(res))"
   ]
  },
  {
   "cell_type": "markdown",
   "id": "5f8c7c0c",
   "metadata": {},
   "source": [
    "# 4.Write a python program to convert only odd indexed characters to upper case."
   ]
  },
  {
   "cell_type": "code",
   "execution_count": 27,
   "id": "64a800de",
   "metadata": {},
   "outputs": [
    {
     "name": "stdout",
     "output_type": "stream",
     "text": [
      " pYtHoN\n"
     ]
    }
   ],
   "source": [
    "s= \"python\"\n",
    "res=\" \"\n",
    "for i in range (len(s)):\n",
    "    if not i % 2:\n",
    "        res= res+s[i].lower()\n",
    "    else:\n",
    "        res=res+s[i].upper()\n",
    "print(str(res))"
   ]
  },
  {
   "cell_type": "markdown",
   "id": "57c565f8",
   "metadata": {},
   "source": [
    "# 5.Write a python program to convert only even indexed characters to lower case."
   ]
  },
  {
   "cell_type": "code",
   "execution_count": 29,
   "id": "478b0be1",
   "metadata": {},
   "outputs": [
    {
     "name": "stdout",
     "output_type": "stream",
     "text": [
      " PyThOn\n"
     ]
    }
   ],
   "source": [
    "s= \"python\"\n",
    "res=\" \"\n",
    "for i in range (len(s)):\n",
    "    if not i % 2:\n",
    "        res=res+s[i].upper()\n",
    "    else:\n",
    "        res= res+s[i].lower()\n",
    "print(str(res))"
   ]
  },
  {
   "cell_type": "markdown",
   "id": "972257e1",
   "metadata": {},
   "source": [
    "# 6.Write a python program where you have different variables which contains your name,gender,age,mobile number,father name,mother name.\n",
    "# And by using this variables craet a variable named bio-data where you will use all this variables"
   ]
  },
  {
   "cell_type": "code",
   "execution_count": 76,
   "id": "fd633ee9",
   "metadata": {},
   "outputs": [
    {
     "name": "stdout",
     "output_type": "stream",
     "text": [
      "My name is Prashanthi,My age is 23,My gender is female,My mobile number is 9381033540,my father name is Ramchandram,My mother name is Lakshmi,"
     ]
    }
   ],
   "source": [
    "biodata=  {\"My name is\":\"Prashanthi\",\n",
    "           \"My age is\": 23,\n",
    "           \"My gender is\":\"female\",\n",
    "           \"My mobile number is\":9381033540,\n",
    "           \"my father name is\":\"Ramchandram\",\n",
    "           \"My mother name is\": \"Lakshmi\"}\n",
    "for i in biodata:\n",
    "    print(i,biodata[i],end = \",\")"
   ]
  },
  {
   "cell_type": "markdown",
   "id": "181c7125",
   "metadata": {},
   "source": [
    "# 7.Write a python program to count how many times \"@\" occured"
   ]
  },
  {
   "cell_type": "code",
   "execution_count": 72,
   "id": "ff041f0e",
   "metadata": {},
   "outputs": [
    {
     "data": {
      "text/plain": [
       "2"
      ]
     },
     "execution_count": 72,
     "metadata": {},
     "output_type": "execute_result"
    }
   ],
   "source": [
    "s= \"Pr@sh@nthi\"\n",
    "s.count('@')"
   ]
  },
  {
   "cell_type": "markdown",
   "id": "1dae315c",
   "metadata": {},
   "source": [
    "# 8.Write python program to get only names from the string"
   ]
  },
  {
   "cell_type": "code",
   "execution_count": 9,
   "id": "74207fb2",
   "metadata": {},
   "outputs": [
    {
     "name": "stdout",
     "output_type": "stream",
     "text": [
      "enter 1st emailprashanthi@gmail.com\n",
      "enter 2nd emailchandrika@gmail.com\n",
      "enter 3rd emailsai@gmail.come\n",
      "prashanthi,chandrika,sai\n"
     ]
    }
   ],
   "source": [
    "st=input(\"enter 1st email\")\n",
    "str1=input(\"enter 2nd email\")\n",
    "str2=input(\"enter 3rd email\")\n",
    "a=st.split('@')\n",
    "b=str1.split('@')\n",
    "c=str2.split('@')\n",
    "print(a[0],b[0],c[0],sep=',')"
   ]
  },
  {
   "cell_type": "markdown",
   "id": "787a8c92",
   "metadata": {},
   "source": [
    "# 9.Write a program to remove vowels from the entire alphabets."
   ]
  },
  {
   "cell_type": "code",
   "execution_count": 88,
   "id": "4f9a279c",
   "metadata": {},
   "outputs": [
    {
     "name": "stdout",
     "output_type": "stream",
     "text": [
      "enter stringabcdefghijklmnopqrstuvwxyz\n",
      "input str abcdefghijklmnopqrstuvwxyz\n",
      "output string without vowels bcdfghjklmnpqrstvwxyz\n"
     ]
    }
   ],
   "source": [
    "str= input(\"enter string\")\n",
    "vowel_str= \"aeiouAEIOU\"\n",
    "print(\"input str\",str)\n",
    "for cha in str:\n",
    "    if cha in vowel_str:\n",
    "        str=str.replace(cha,\"\")\n",
    "print(\"output string without vowels\",str)"
   ]
  },
  {
   "cell_type": "markdown",
   "id": "ff6de7e2",
   "metadata": {},
   "source": [
    "# 10. Find all occurences of a substring in a given string by ignoring the case."
   ]
  },
  {
   "cell_type": "code",
   "execution_count": 93,
   "id": "5ef14375",
   "metadata": {},
   "outputs": [
    {
     "data": {
      "text/plain": [
       "2"
      ]
     },
     "execution_count": 93,
     "metadata": {},
     "output_type": "execute_result"
    }
   ],
   "source": [
    "str= \"Welcome to Innomatics.Innomatics awesome,isn't it?\"\n",
    "str.count(\"Innomatics\")"
   ]
  },
  {
   "cell_type": "code",
   "execution_count": null,
   "id": "704ae2e5",
   "metadata": {},
   "outputs": [],
   "source": []
  }
 ],
 "metadata": {
  "kernelspec": {
   "display_name": "Python 3 (ipykernel)",
   "language": "python",
   "name": "python3"
  },
  "language_info": {
   "codemirror_mode": {
    "name": "ipython",
    "version": 3
   },
   "file_extension": ".py",
   "mimetype": "text/x-python",
   "name": "python",
   "nbconvert_exporter": "python",
   "pygments_lexer": "ipython3",
   "version": "3.9.13"
  }
 },
 "nbformat": 4,
 "nbformat_minor": 5
}
