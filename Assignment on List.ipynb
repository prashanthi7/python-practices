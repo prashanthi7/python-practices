{
 "cells": [
  {
   "cell_type": "markdown",
   "id": "2e9d9f61",
   "metadata": {},
   "source": [
    "# Assingement on List."
   ]
  },
  {
   "cell_type": "markdown",
   "id": "b0f6bad8",
   "metadata": {},
   "source": [
    "# 1.Write a python program to sum all the items and multiply all the items."
   ]
  },
  {
   "cell_type": "code",
   "execution_count": 1,
   "id": "193d6440",
   "metadata": {},
   "outputs": [
    {
     "name": "stdout",
     "output_type": "stream",
     "text": [
      "35\n"
     ]
    },
    {
     "data": {
      "text/plain": [
       "15120"
      ]
     },
     "execution_count": 1,
     "metadata": {},
     "output_type": "execute_result"
    }
   ],
   "source": [
    "list=[5,6,7,8,9]\n",
    "print(sum(list))\n",
    "def mul(num):\n",
    "    m=1\n",
    "    for i in num:\n",
    "        m=m*i\n",
    "    return m\n",
    "mul([5,6,7,8,9])"
   ]
  },
  {
   "cell_type": "markdown",
   "id": "1d162f07",
   "metadata": {},
   "source": [
    "# 2.Write a python function that takes two lists and return true if all they have at least one common member."
   ]
  },
  {
   "cell_type": "code",
   "execution_count": 6,
   "id": "097b8db5",
   "metadata": {},
   "outputs": [
    {
     "name": "stdout",
     "output_type": "stream",
     "text": [
      "True\n",
      "None\n"
     ]
    }
   ],
   "source": [
    "def com_item(list1,list2):\n",
    "    result= False\n",
    "    for i in list1:\n",
    "        for j in list2:\n",
    "            if i==j:\n",
    "                result = True\n",
    "                return result\n",
    "print(com_item([1,2,3,4,5], [5,6,7,8,9]))\n",
    "print(com_item([1,2,3,4,5], [6,7,8,9]))"
   ]
  },
  {
   "cell_type": "markdown",
   "id": "c56382ab",
   "metadata": {},
   "source": [
    "# 3. Write a python program to compute the difference between two lists.\n",
    "### Sample data: [\"red\", \"orange\",\"green\",\"blue\",\"white\"], [\"black\",\"yellow\",\"green\",\"blue\"]"
   ]
  },
  {
   "cell_type": "code",
   "execution_count": 22,
   "id": "8d835d53",
   "metadata": {},
   "outputs": [
    {
     "name": "stdout",
     "output_type": "stream",
     "text": [
      "{'white', 'red', 'orange'}\n",
      "{'yellow', 'black'}\n"
     ]
    }
   ],
   "source": [
    "color1=[\"red\", \"orange\", \"green\", \"blue\", \"white\"]\n",
    "color2=[\"black\", \"yellow\", \"green\", \"blue\"] \n",
    "color3=(set(color1) - set(color2))\n",
    "color4=(set(color2) - set(color1))\n",
    "print(color3)\n",
    "print(color4)"
   ]
  },
  {
   "cell_type": "code",
   "execution_count": null,
   "id": "14f1b7dc",
   "metadata": {},
   "outputs": [],
   "source": []
  }
 ],
 "metadata": {
  "kernelspec": {
   "display_name": "Python 3 (ipykernel)",
   "language": "python",
   "name": "python3"
  },
  "language_info": {
   "codemirror_mode": {
    "name": "ipython",
    "version": 3
   },
   "file_extension": ".py",
   "mimetype": "text/x-python",
   "name": "python",
   "nbconvert_exporter": "python",
   "pygments_lexer": "ipython3",
   "version": "3.9.13"
  }
 },
 "nbformat": 4,
 "nbformat_minor": 5
}
